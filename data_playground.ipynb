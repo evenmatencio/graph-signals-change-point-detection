{
 "cells": [
  {
   "cell_type": "markdown",
   "metadata": {},
   "source": [
    "# Data pre-processing and exploration"
   ]
  },
  {
   "cell_type": "markdown",
   "metadata": {},
   "source": [
    "## Wind Spatio-Temporal Dataset\n",
    "\n",
    "The dataset we use in the following part is the [Wind Spatio-Temporal Dataset2](https://zenodo.org/records/5516550). We extract the values corresponding to the wind speed and the power for the 200 turbines. Such values are the considered multivariate time series. We also use the coordinates of the turbines to turn our time signals into a grap time series."
   ]
  },
  {
   "cell_type": "code",
   "execution_count": 4,
   "metadata": {},
   "outputs": [],
   "source": [
    "import pandas as pd"
   ]
  },
  {
   "cell_type": "code",
   "execution_count": 5,
   "metadata": {},
   "outputs": [
    {
     "name": "stderr",
     "output_type": "stream",
     "text": [
      "/tmp/ipykernel_18846/3908433030.py:1: DtypeWarning: Columns (1,2,3,4,5,6,7,8,9,10,11,12,13,14,15,16,17,18,19,20,21,22,23,24,25,26,27,28,29,30,31,32,33,34,35,36,37,38,39,40,41,42,43,44,45,46,47,48,49,50,51,52,53,54,55,56,57,58,59,60,61,62,63,64,65,66,67,68,69,70,71,72,73,74,75,76,77,78,79,80,81,82,83,84,85,86,87,88,89,90,91,92,93,94,95,96,97,98,99,100,101,102,103,104,105,106,107,108,109,110,111,112,113,114,115,116,117,118,119,120,121,122,123,124,125,126,127,128,129,130,131,132,133,134,135,136,137,138,139,140,141,142,143,144,145,146,147,148,149,150,151,152,153,154,155,156,157,158,159,160,161,162,163,164,165,166,167,168,169,170,171,172,173,174,175,176,177,178,179,180,181,182,183,184,185,186,187,188,189,190,191,192,193,194,195,196,197,198,199,200,201,202,203,204,205,206,207,208,209,210,211,212,213,214,215,216,217,218,219,220,221,222,223,224,225,226,227,228,229,230,231,232,233,234,235,236,237,238,239,240,241,242,243,244,245,246,247,248,249,250,251,252,253,254,255,256,257,258,259,260,261,262,263,264,265,266,267,268,269,270,271,272,273,274,275,276,277,278,279,280,281,282,283,284,285,286,287,288,289,290,291,292,293,294,295,296,297,298,299,300,301,302,303,304,305,306,307,308,309,310,311,312,313,314,315,316,317,318,319,320,321,322,323,324,325,326,327,328,329,330,331,332,333,334,335,336,337,338,339,340,341,342,343,344,345,346,347,348,349,350,351,352,353,354,355,356,357,358,359,360,361,362,363,364,365,366,367,368,369,370,371,372,373,374,375,376,377,378,379,380,381,382,383,384,385,386,387,388,389,390,391,392,393,394,395,396,397,398,399,400,401,402,403,404,405,406) have mixed types. Specify dtype option on import or set low_memory=False.\n",
      "  data_df = pd.read_csv(\"data/Wind_Turbines/Wind Spatio-Temporal Dataset2.csv\")\n"
     ]
    }
   ],
   "source": [
    "data_df = pd.read_csv(\"data/Wind_Turbines/Wind Spatio-Temporal Dataset2.csv\")"
   ]
  },
  {
   "cell_type": "code",
   "execution_count": 5,
   "metadata": {},
   "outputs": [
    {
     "data": {
      "text/html": [
       "<div>\n",
       "<style scoped>\n",
       "    .dataframe tbody tr th:only-of-type {\n",
       "        vertical-align: middle;\n",
       "    }\n",
       "\n",
       "    .dataframe tbody tr th {\n",
       "        vertical-align: top;\n",
       "    }\n",
       "\n",
       "    .dataframe thead th {\n",
       "        text-align: right;\n",
       "    }\n",
       "</style>\n",
       "<table border=\"1\" class=\"dataframe\">\n",
       "  <thead>\n",
       "    <tr style=\"text-align: right;\">\n",
       "      <th></th>\n",
       "      <th>Unnamed: 0</th>\n",
       "      <th>Turbine1</th>\n",
       "      <th>Turbine2</th>\n",
       "      <th>Turbine3</th>\n",
       "      <th>Turbine4</th>\n",
       "      <th>Turbine5</th>\n",
       "      <th>Turbine6</th>\n",
       "      <th>Turbine7</th>\n",
       "      <th>Turbine8</th>\n",
       "      <th>Turbine9</th>\n",
       "      <th>...</th>\n",
       "      <th>Unnamed: 397</th>\n",
       "      <th>Unnamed: 398</th>\n",
       "      <th>Unnamed: 399</th>\n",
       "      <th>Unnamed: 400</th>\n",
       "      <th>Unnamed: 401</th>\n",
       "      <th>Unnamed: 402</th>\n",
       "      <th>Unnamed: 403</th>\n",
       "      <th>Unnamed: 404</th>\n",
       "      <th>Unnamed: 405</th>\n",
       "      <th>Unnamed: 406</th>\n",
       "    </tr>\n",
       "  </thead>\n",
       "  <tbody>\n",
       "    <tr>\n",
       "      <th>0</th>\n",
       "      <td>Latitude</td>\n",
       "      <td>40.477244</td>\n",
       "      <td>40.475753</td>\n",
       "      <td>40.482172</td>\n",
       "      <td>40.476083</td>\n",
       "      <td>40.477691</td>\n",
       "      <td>40.476644</td>\n",
       "      <td>40.468356</td>\n",
       "      <td>40.467822</td>\n",
       "      <td>40.469174</td>\n",
       "      <td>...</td>\n",
       "      <td>NaN</td>\n",
       "      <td>NaN</td>\n",
       "      <td>NaN</td>\n",
       "      <td>NaN</td>\n",
       "      <td>NaN</td>\n",
       "      <td>NaN</td>\n",
       "      <td>NaN</td>\n",
       "      <td>NaN</td>\n",
       "      <td>NaN</td>\n",
       "      <td>NaN</td>\n",
       "    </tr>\n",
       "    <tr>\n",
       "      <th>1</th>\n",
       "      <td>Longitude</td>\n",
       "      <td>-88.798072</td>\n",
       "      <td>-88.795484</td>\n",
       "      <td>-88.779434</td>\n",
       "      <td>-88.779391</td>\n",
       "      <td>-88.772025</td>\n",
       "      <td>-88.767455</td>\n",
       "      <td>-88.771024</td>\n",
       "      <td>-88.767047</td>\n",
       "      <td>-88.762329</td>\n",
       "      <td>...</td>\n",
       "      <td>NaN</td>\n",
       "      <td>NaN</td>\n",
       "      <td>NaN</td>\n",
       "      <td>NaN</td>\n",
       "      <td>NaN</td>\n",
       "      <td>NaN</td>\n",
       "      <td>NaN</td>\n",
       "      <td>NaN</td>\n",
       "      <td>NaN</td>\n",
       "      <td>NaN</td>\n",
       "    </tr>\n",
       "    <tr>\n",
       "      <th>2</th>\n",
       "      <td>NaN</td>\n",
       "      <td>NaN</td>\n",
       "      <td>NaN</td>\n",
       "      <td>NaN</td>\n",
       "      <td>NaN</td>\n",
       "      <td>NaN</td>\n",
       "      <td>NaN</td>\n",
       "      <td>NaN</td>\n",
       "      <td>NaN</td>\n",
       "      <td>NaN</td>\n",
       "      <td>...</td>\n",
       "      <td>NaN</td>\n",
       "      <td>NaN</td>\n",
       "      <td>NaN</td>\n",
       "      <td>NaN</td>\n",
       "      <td>NaN</td>\n",
       "      <td>NaN</td>\n",
       "      <td>NaN</td>\n",
       "      <td>NaN</td>\n",
       "      <td>NaN</td>\n",
       "      <td>NaN</td>\n",
       "    </tr>\n",
       "    <tr>\n",
       "      <th>3</th>\n",
       "      <td>Time</td>\n",
       "      <td>Turbine1_Speed</td>\n",
       "      <td>Turbine1_Power</td>\n",
       "      <td>Turbine2_Speed</td>\n",
       "      <td>Turbine2_Power</td>\n",
       "      <td>Turbine3_Speed</td>\n",
       "      <td>Turbine3_Power</td>\n",
       "      <td>Turbine4_Speed</td>\n",
       "      <td>Turbine4_Power</td>\n",
       "      <td>Turbine5_Speed</td>\n",
       "      <td>...</td>\n",
       "      <td>Turbine199_Speed</td>\n",
       "      <td>Turbine199_Power</td>\n",
       "      <td>Turbine200_Speed</td>\n",
       "      <td>Turbine200_Power</td>\n",
       "      <td>Mast1_Speed</td>\n",
       "      <td>Mast1_Direction</td>\n",
       "      <td>Mast2_Speed</td>\n",
       "      <td>Mast2_Direction</td>\n",
       "      <td>Mast3_Speed</td>\n",
       "      <td>Mast3_Direction</td>\n",
       "    </tr>\n",
       "    <tr>\n",
       "      <th>4</th>\n",
       "      <td>9/1/2010 0:00</td>\n",
       "      <td>8.9</td>\n",
       "      <td>0.432136263</td>\n",
       "      <td>8.9</td>\n",
       "      <td>0.463000477</td>\n",
       "      <td>7.7</td>\n",
       "      <td>0.329147427</td>\n",
       "      <td>9.2</td>\n",
       "      <td>0.542983188</td>\n",
       "      <td>2.7</td>\n",
       "      <td>...</td>\n",
       "      <td>10.2</td>\n",
       "      <td>0.56875</td>\n",
       "      <td>10.1</td>\n",
       "      <td>0.60038127</td>\n",
       "      <td>7.58</td>\n",
       "      <td>182</td>\n",
       "      <td>9.5</td>\n",
       "      <td>217.1</td>\n",
       "      <td>9.47</td>\n",
       "      <td>197.6</td>\n",
       "    </tr>\n",
       "  </tbody>\n",
       "</table>\n",
       "<p>5 rows × 407 columns</p>\n",
       "</div>"
      ],
      "text/plain": [
       "      Unnamed: 0        Turbine1        Turbine2        Turbine3  \\\n",
       "0       Latitude       40.477244       40.475753       40.482172   \n",
       "1      Longitude      -88.798072      -88.795484      -88.779434   \n",
       "2            NaN             NaN             NaN             NaN   \n",
       "3           Time  Turbine1_Speed  Turbine1_Power  Turbine2_Speed   \n",
       "4  9/1/2010 0:00             8.9     0.432136263             8.9   \n",
       "\n",
       "         Turbine4        Turbine5        Turbine6        Turbine7  \\\n",
       "0       40.476083       40.477691       40.476644       40.468356   \n",
       "1      -88.779391      -88.772025      -88.767455      -88.771024   \n",
       "2             NaN             NaN             NaN             NaN   \n",
       "3  Turbine2_Power  Turbine3_Speed  Turbine3_Power  Turbine4_Speed   \n",
       "4     0.463000477             7.7     0.329147427             9.2   \n",
       "\n",
       "         Turbine8        Turbine9  ...      Unnamed: 397      Unnamed: 398  \\\n",
       "0       40.467822       40.469174  ...               NaN               NaN   \n",
       "1      -88.767047      -88.762329  ...               NaN               NaN   \n",
       "2             NaN             NaN  ...               NaN               NaN   \n",
       "3  Turbine4_Power  Turbine5_Speed  ...  Turbine199_Speed  Turbine199_Power   \n",
       "4     0.542983188             2.7  ...              10.2           0.56875   \n",
       "\n",
       "       Unnamed: 399      Unnamed: 400 Unnamed: 401     Unnamed: 402  \\\n",
       "0               NaN               NaN          NaN              NaN   \n",
       "1               NaN               NaN          NaN              NaN   \n",
       "2               NaN               NaN          NaN              NaN   \n",
       "3  Turbine200_Speed  Turbine200_Power  Mast1_Speed  Mast1_Direction   \n",
       "4              10.1        0.60038127         7.58              182   \n",
       "\n",
       "  Unnamed: 403     Unnamed: 404 Unnamed: 405     Unnamed: 406  \n",
       "0          NaN              NaN          NaN              NaN  \n",
       "1          NaN              NaN          NaN              NaN  \n",
       "2          NaN              NaN          NaN              NaN  \n",
       "3  Mast2_Speed  Mast2_Direction  Mast3_Speed  Mast3_Direction  \n",
       "4          9.5            217.1         9.47            197.6  \n",
       "\n",
       "[5 rows x 407 columns]"
      ]
     },
     "execution_count": 5,
     "metadata": {},
     "output_type": "execute_result"
    }
   ],
   "source": [
    "data_df.head(5)"
   ]
  },
  {
   "cell_type": "markdown",
   "metadata": {},
   "source": [
    "### Extract the turbine coordinates"
   ]
  },
  {
   "cell_type": "code",
   "execution_count": 20,
   "metadata": {},
   "outputs": [],
   "source": [
    "coord = data_df.iloc[0:2].copy(deep=True)\n",
    "col_names = [\"Unnamed: 0\"] + [f'Turbine{i}' for i in range(1, 201)]\n",
    "coord = coord[col_names]\n",
    "coord.set_index('Unnamed: 0', inplace=True)\n",
    "coord.index.name = None"
   ]
  },
  {
   "cell_type": "code",
   "execution_count": 21,
   "metadata": {},
   "outputs": [],
   "source": [
    "coord.to_csv('data/turbines_coord.csv')"
   ]
  },
  {
   "cell_type": "markdown",
   "metadata": {},
   "source": [
    "### Extract the speed and power time series per turbine"
   ]
  },
  {
   "cell_type": "code",
   "execution_count": 6,
   "metadata": {},
   "outputs": [],
   "source": [
    "speed_power_df = data_df.iloc[3:len(data_df.index)].copy(deep=True)\n",
    "speed_power_df.columns = speed_power_df.loc[3]\n",
    "speed_power_df.drop(speed_power_df.index[0], inplace=True)\n",
    "speed_power_df = speed_power_df.drop(['Mast1_Speed', 'Mast2_Speed', \"Mast3_Speed\", \"Mast1_Direction\", 'Mast2_Direction', \"Mast3_Direction\"], axis=1)"
   ]
  },
  {
   "cell_type": "code",
   "execution_count": null,
   "metadata": {},
   "outputs": [],
   "source": [
    "speed_power_df.to_csv('data/turbines_speed_power.csv')"
   ]
  },
  {
   "cell_type": "markdown",
   "metadata": {},
   "source": [
    "## CHB-MIT_Scalp_EEG\n",
    "\n",
    "The following data comes from [CHB-MIT Scalp EEG Database](https://physionet.org/content/chbmit/1.0.0/chb01/#files-panel). It consists of a collection of EEG recordings of 22 pediatric subjects with intractable seizures. For each subject, a number of *.edf* files were recorded containing generally one hour of digitized EEG signals, recorded with International 10-20 system of EEG electrode positions and nomenclature.\n",
    "\n",
    "Please refer to this [learning eeg presentation](https://www.learningeeg.com/montages-and-technical-components) for details about the nomenclature of the channels."
   ]
  },
  {
   "cell_type": "markdown",
   "metadata": {},
   "source": [
    "### Opening and vizualization of the data"
   ]
  },
  {
   "cell_type": "code",
   "execution_count": 1,
   "metadata": {},
   "outputs": [],
   "source": [
    "from pyedflib import highlevel"
   ]
  },
  {
   "cell_type": "code",
   "execution_count": 2,
   "metadata": {},
   "outputs": [
    {
     "data": {
      "text/plain": [
       "(23, 921600)"
      ]
     },
     "execution_count": 2,
     "metadata": {},
     "output_type": "execute_result"
    }
   ],
   "source": [
    "signals_03, signal_headers_03, header_03 = highlevel.read_edf('data/CHB-MIT_Scalp_EEG/chb01_03.edf')\n",
    "signals_03.shape"
   ]
  },
  {
   "cell_type": "code",
   "execution_count": 17,
   "metadata": {},
   "outputs": [],
   "source": [
    "sample_freq = signal_headers_03[0]['sample_rate']"
   ]
  },
  {
   "cell_type": "code",
   "execution_count": 39,
   "metadata": {},
   "outputs": [
    {
     "name": "stderr",
     "output_type": "stream",
     "text": [
      "/tmp/ipykernel_24353/3234573190.py:13: UserWarning: FigureCanvasAgg is non-interactive, and thus cannot be shown\n",
      "  fig.show()\n"
     ]
    },
    {
     "data": {
      "image/png": "[encoded data removed]",
      "text/plain": [
       "<Figure size 800x400 with 1 Axes>"
      ]
     },
     "metadata": {},
     "output_type": "display_data"
    }
   ],
   "source": [
    "import matplotlib.pyplot as plt\n",
    "\n",
    "seizure_start = 2996\n",
    "seizure_end = 3036\n",
    "\n",
    "fig, ax = plt.subplots(1, 1, figsize=(8, 4))\n",
    "ax.plot(signals_03[0, :])\n",
    "new_labels = [str(int(label._text)//sample_freq)[:-2] for label in ax.get_xticklabels()[1:-1]]\n",
    "ax.axvline(x=sample_freq*seizure_start, color='k')\n",
    "ax.axvline(x=sample_freq*seizure_end, color='k')\n",
    "ax.set_xticks(ax.get_xticks()[1:-1], new_labels)\n",
    "ax.set_xlabel('Time (s)')\n",
    "fig.show()"
   ]
  },
  {
   "cell_type": "code",
   "execution_count": null,
   "metadata": {},
   "outputs": [],
   "source": []
  }
 ],
 "metadata": {
  "kernelspec": {
   "display_name": ".venv",
   "language": "python",
   "name": "python3"
  },
  "language_info": {
   "codemirror_mode": {
    "name": "ipython",
    "version": 3
   },
   "file_extension": ".py",
   "mimetype": "text/x-python",
   "name": "python",
   "nbconvert_exporter": "python",
   "pygments_lexer": "ipython3",
   "version": "3.10.12"
  }
 },
 "nbformat": 4,
 "nbformat_minor": 2
}
