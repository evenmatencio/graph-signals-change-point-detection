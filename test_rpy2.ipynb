{
 "cells": [
  {
   "cell_type": "markdown",
   "metadata": {},
   "source": [
    "# Test on ```rpy2```"
   ]
  },
  {
   "cell_type": "code",
   "execution_count": null,
   "metadata": {},
   "outputs": [],
   "source": [
    "import rpy2\n",
    "import rpy2.robjects as robjects\n",
    "\n",
    "## To aid in printing HTML in notebooks\n",
    "import rpy2.ipython.html\n",
    "rpy2.ipython.html.init_printing()"
   ]
  },
  {
   "cell_type": "code",
   "execution_count": null,
   "metadata": {},
   "outputs": [],
   "source": [
    "is_r_cp_installed = robjects.r(\"system.file(package='changepoints')\")\n",
    "print(is_r_cp_installed)"
   ]
  },
  {
   "cell_type": "code",
   "execution_count": null,
   "metadata": {},
   "outputs": [],
   "source": [
    "from rpy2.robjects.packages import importr\n",
    "\n",
    "r_base = importr('base')\n",
    "r_utils = importr('utils')\n",
    "r_cp = importr('changepoints')\n",
    "r_covcp = importr('covcp')\n",
    "r_mass = importr('MASS')"
   ]
  },
  {
   "cell_type": "code",
   "execution_count": null,
   "metadata": {},
   "outputs": [],
   "source": [
    "print(r_base.c(1, 3, 3, 4, 5))\n",
    "print(type(r_base.c(1, 3, 3, 4, 5)))"
   ]
  },
  {
   "cell_type": "markdown",
   "metadata": {},
   "source": [
    "## Sandbox on CPD algorithms"
   ]
  },
  {
   "cell_type": "markdown",
   "metadata": {},
   "source": [
    "### Experiments with ```akopich/covcp```"
   ]
  },
  {
   "cell_type": "code",
   "execution_count": null,
   "metadata": {},
   "outputs": [],
   "source": []
  },
  {
   "cell_type": "markdown",
   "metadata": {},
   "source": [
    "### Experiments with ```HaotianXu/changepoints```"
   ]
  },
  {
   "cell_type": "code",
   "execution_count": null,
   "metadata": {},
   "outputs": [],
   "source": [
    "p = 4\n",
    "A1 = r_cp.gen_cov_mat(p, 1, \"equal\")\n",
    "print(type(A1))\n",
    "print(A1)\n",
    "print(type(A1[0]))\n",
    "print(A1[0])"
   ]
  },
  {
   "cell_type": "code",
   "execution_count": null,
   "metadata": {},
   "outputs": [],
   "source": [
    "p = 10\n",
    "n_samples_1 = 300\n",
    "n_samples_2 = 300\n",
    "n_samples_3 = 300\n",
    "n_samples_4 = 300\n",
    "n_samples = n_samples_1 + n_samples_2 + n_samples_3\n",
    "A1 = r_cp.gen_cov_mat(p, 10, \"equal\")\n",
    "A2 = r_cp.gen_cov_mat(p, 10, \"diagonal\")\n",
    "A3 = r_cp.gen_cov_mat(p, 10, \"power\")\n",
    "A4 = r_cp.gen_cov_mat(p, 10, \"power\")\n",
    "X = r_base.cbind(r_base.t(r_mass.mvrnorm(n = n_samples_1, mu = r_base.rep(0, p), Sigma = A1)),\n",
    "r_base.t(r_mass.mvrnorm(n = n_samples_2, mu = r_base.rep(0, p), Sigma = A2)),\n",
    "r_base.t(r_mass.mvrnorm(n = n_samples_3, mu = r_base.rep(0, p), Sigma = A3)),\n",
    "r_base.t(r_mass.mvrnorm(n = n_samples_3, mu = r_base.rep(0, p), Sigma = A4)))"
   ]
  },
  {
   "cell_type": "code",
   "execution_count": null,
   "metadata": {},
   "outputs": [],
   "source": [
    "print(r_base.dim(r_mass.mvrnorm(n = n_samples_1, mu = r_base.rep(0, p), Sigma = A1)))\n",
    "print(r_base.dim(X))"
   ]
  },
  {
   "cell_type": "code",
   "execution_count": null,
   "metadata": {},
   "outputs": [],
   "source": [
    "simple_BS_cov = r_cp.BS_cov(X, 1, n_samples)\n",
    "\n",
    "print(type(simple_BS_cov))\n",
    "print(simple_BS_cov)\n",
    "print('length of the BS object:', r_base.length(simple_BS_cov))\n",
    "print(type(simple_BS_cov[0]))\n",
    "print(simple_BS_cov[0])\n",
    "print(type(simple_BS_cov[1]))\n",
    "print(simple_BS_cov[1])\n",
    "print(type(simple_BS_cov[2]))\n",
    "print(simple_BS_cov[2])\n",
    "print(type(simple_BS_cov[3]))\n",
    "print(simple_BS_cov[3])"
   ]
  },
  {
   "cell_type": "code",
   "execution_count": null,
   "metadata": {},
   "outputs": [],
   "source": [
    "threshold = 4\n",
    "threshoded_dBS = r_cp.thresholdBS(simple_BS_cov, 10)\n",
    "\n",
    "print(type(threshoded_dBS))\n",
    "print(threshoded_dBS)\n",
    "print('length of the thresholded BS object:', r_base.length(threshoded_dBS))\n",
    "print(type(threshoded_dBS[0]))\n",
    "print(threshoded_dBS[0])\n",
    "print(type(threshoded_dBS[1]))\n",
    "print(threshoded_dBS[1])"
   ]
  }
 ],
 "metadata": {
  "kernelspec": {
   "display_name": ".venv",
   "language": "python",
   "name": "python3"
  },
  "language_info": {
   "codemirror_mode": {
    "name": "ipython",
    "version": 3
   },
   "file_extension": ".py",
   "mimetype": "text/x-python",
   "name": "python",
   "nbconvert_exporter": "python",
   "pygments_lexer": "ipython3",
   "version": "3.11.2"
  }
 },
 "nbformat": 4,
 "nbformat_minor": 2
}
