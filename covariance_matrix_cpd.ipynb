{
 "cells": [
  {
   "cell_type": "markdown",
   "metadata": {},
   "source": [
    "# Covariance matrix change-point detection under graph stationarity assumption\n"
   ]
  },
  {
   "cell_type": "markdown",
   "metadata": {},
   "source": [
    "## Problem formulation\n",
    "\n",
    "Let $y = (y_1, \\ldots, y_t, \\ldots, y_T), y_t \\in \\mathbb{R}^{N}$ a graph signal lying on the nodes of the graph $G = (V, E, W)$, with $N =|V|$.\n",
    "\n",
    "We aim at detecting changes of the (spatial) covariance matrix $\\Sigma_t$ of the graph signals $y_t$. We assume that there exits an unknown set of change-points $\\Tau = (t_1, \\ldots, t_K) \\subset [1, T]$ with unknown cardinality such that the covariance matrix of the graph signals is constant over any segment $[t_k, t_{k+1}]$. We do the following hypothesis:\n",
    "\n",
    "1. the signals $y_t$ follow a multivariate Gaussian distribution with fixed covariance matrix over each segment, i.e:\n",
    "$$\\forall k \\in [1, K] ~ \\forall t \\in [t_k, t_{k+1}] \\quad y_t \\sim \\mathcal{N}(\\mu, \\Sigma_k)$$\n",
    "\n",
    "2. over each segment, the signals $y_t$ verify the second order wide-sense graph stationarity:\n",
    "$$\\forall k \\in [1, K] \\quad \\Sigma_k = U \\text{diag}(\\gamma_k)U^T $$\n",
    "\n",
    "where the matrix $U$ contains the eigenvectors of the graph combinatorial Laplacian matrix $L = D - W$ in its columns. \n",
    "\n",
    "The Graph Fourier Transform $\\tilde{y}$ of a signal $y$ is defined by $\\tilde{y} = U^T y $.\n",
    "\n",
    "\n",
    "Based on the above assumptions, the cost derived from the maximum log-likelihood over a segment $[a, b-1]$ writes:\n",
    "\n",
    "\\begin{align*}\n",
    "    c(y_{a}, \\ldots, y_{b-1}) = ~ & (b - a) \\sum_{n=1}^N \\log \\hat{\\gamma}_{a.b}^{(n)} ~ + ~ \\sum_{t=a}^{b-1} \\sum_{n=1}^N \\frac{(\\tilde{y}_t^{(n)} - \\hat{\\tilde{\\mu}}_T^{(n)})^2}{\\hat{\\gamma}_{a.b}^{(n)}} = ~ (b - a) \\sum_{n=1}^N \\log \\hat{\\gamma}_{a.b}^{(n)} ~ + N(b-a)\n",
    "\\end{align*}\n",
    "\n",
    "where:\n",
    "\n",
    "- $\\hat{\\mu}_{a..b}$ is the empirical mean of the process over $[a, b-1]$\n",
    "- $\\hat{\\gamma}_{a..b}$ is the (empirical) biased correlogram/periodogram of the process over $[a, b-1]$"
   ]
  },
  {
   "cell_type": "markdown",
   "metadata": {},
   "source": [
    "##  Implementation\n",
    "\n",
    "\n",
    "The evaluation of the above cost function requires the computation of: \n",
    "\n",
    "- the eigendecomposition of the graph Laplacian\n",
    "- the empirical mean of the signal over all the available time steps\n",
    "- the diagonal of the empirical covariance matrix of $\\tilde{y_t}$\n",
    "\n",
    "Possible methods for estimating the power spectral density:\n",
    "- compute the $\\tilde{y_t}$, then compute their variance (corresponds to correlogram and periodogram)\n",
    "- use the graph Short Time Fourier Transform"
   ]
  },
  {
   "cell_type": "markdown",
   "metadata": {},
   "source": [
    "### Computation of the cost"
   ]
  },
  {
   "cell_type": "code",
   "execution_count": 26,
   "metadata": {},
   "outputs": [],
   "source": [
    "import numpy as np\n",
    "\n",
    "from scipy.linalg import eigh\n",
    "from ruptures.base import BaseCost\n",
    "\n",
    "class CostGraphStatioNormal(BaseCost):\n",
    "\n",
    "    \"\"\"\n",
    "    \"\"\"\n",
    "\n",
    "    model = \"graph_sationary_normal_cost\"\n",
    "    min_size = 1\n",
    "\n",
    "    def __init__(self, laplacian_mat) -> None:\n",
    "        \"\"\"\n",
    "        Args:\n",
    "            laplacian_mat (array): the discrete Laplacian matrix of the graph: D - W\n",
    "            where D is the diagonal matrix diag(d_i) of the node degrees and W the adjacency matrix\n",
    "        \"\"\"\n",
    "        self.graph_laplacian_mat = laplacian_mat\n",
    "        self.signal = None\n",
    "        self.gft_square_cumsum = None\n",
    "        self.gft_mean = None\n",
    "        super().__init__()\n",
    "    \n",
    "    def fit(self, signal):\n",
    "        \"\"\"Performs pre-computations for per-segment approximation cost.\n",
    "\n",
    "        NOTE: the number of dimensions of the signal and their ordering\n",
    "        must match those of the nodes of the graph.\n",
    "        The function eigh used below returns the eigenvector corresponding to \n",
    "        the ith eigenvalue in the ith column eigvect[:, i]\n",
    "\n",
    "        Args:\n",
    "            signal (array): of shape [n_samples, n_dim].\n",
    "        \"\"\"\n",
    "        self.signal = signal\n",
    "        # Computation of the GFSS\n",
    "        _, eigvects = eigh(self.graph_laplacian_mat)\n",
    "        gft =  signal.dot(eigvects)  # equals eigvects.T.dot(signal.T).T\n",
    "        self.gft_mean = np.mean(gft, axis=0)\n",
    "        # Computation of the per-segment cost utils\n",
    "        self.gft_square_cumsum = np.concatenate([np.zeros((1, signal.shape[1])), np.cumsum((gft - self.gft_mean[None, :])**2, axis=0)], axis=0)\n",
    "        return self\n",
    "\n",
    "    def error(self, start, end):\n",
    "        \"\"\"Return the L2 approximation cost on the segment [start:end] \n",
    "        where end is excluded, over the filtered signal.\n",
    "\n",
    "        Args:\n",
    "            start (int): start of the segment\n",
    "            end (int): end of the segment\n",
    "\n",
    "        Returns:\n",
    "            float: segment cost\n",
    "        \"\"\"\n",
    "        if end - start < self.min_size:\n",
    "            raise ValueError(f'end - start shoud be higher than {self.min_size}')\n",
    "        sub_square_sum = self.gft_square_cumsum[end] - self.gft_square_cumsum[start]\n",
    "        return (end  - start) * np.sum(np.log(sub_square_sum))\n"
   ]
  },
  {
   "cell_type": "markdown",
   "metadata": {},
   "source": [
    "### Experiments"
   ]
  },
  {
   "cell_type": "markdown",
   "metadata": {},
   "source": [
    "#### Real data"
   ]
  },
  {
   "cell_type": "code",
   "execution_count": 27,
   "metadata": {},
   "outputs": [],
   "source": [
    "from pyedflib import highlevel\n",
    "signals_03, signal_headers_03, header_03 = highlevel.read_edf('data/CHB-MIT_Scalp_EEG/chb01_03.edf')"
   ]
  },
  {
   "cell_type": "markdown",
   "metadata": {},
   "source": [
    "#### Synthetic data\n",
    "\n",
    "##### Signal and graph generation"
   ]
  },
  {
   "cell_type": "code",
   "execution_count": 28,
   "metadata": {},
   "outputs": [],
   "source": [
    "import networkx as nx\n",
    "import ruptures as rpt"
   ]
  },
  {
   "cell_type": "code",
   "execution_count": 29,
   "metadata": {},
   "outputs": [
    {
     "data": {
      "image/png": "[encoded data removed]",
      "text/plain": [
       "<Figure size 640x480 with 1 Axes>"
      ]
     },
     "metadata": {},
     "output_type": "display_data"
    }
   ],
   "source": [
    "## Fake graph for experiment\n",
    "nb_nodes = 5\n",
    "cluster_nb = 3\n",
    "mean_cluster_size = 1\n",
    "inter_density = 0.5\n",
    "intra_density = 0.5\n",
    "graph_seed = 10\n",
    "\n",
    "G = nx.gaussian_random_partition_graph(n=nb_nodes, s=mean_cluster_size, v=2*mean_cluster_size, p_in=intra_density, p_out=inter_density, seed=graph_seed)\n",
    "coord = nx.spring_layout(G)\n",
    "nx.draw_networkx(G, with_labels=False, pos=coord)"
   ]
  },
  {
   "cell_type": "code",
   "execution_count": 30,
   "metadata": {},
   "outputs": [],
   "source": [
    "## SIGNAL GENERATION\n",
    "\n",
    "# hyper-parameters\n",
    "n_samples = 200\n",
    "bkp = 110\n",
    "seed = 1\n",
    "n_dims = nb_nodes\n",
    "sigma = 1\n",
    "\n",
    "# we create the signal\n",
    "cov1 = np.array([[2, -1, 0, 0, 0],\n",
    "                [-1, 2, -1, 0, 0],\n",
    "                [0, -1, 2, 0, 0],\n",
    "                [0, 0, 0, 2, 0],\n",
    "                [0, 0, 0, 0, 1]])\n",
    "cov2 = np.array([[10, 5, 2, 0, 0],\n",
    "                [5, 3, 2, 0, 0],\n",
    "                [2, 2, 3, 0, 0],\n",
    "                [0, 0, 0, 4, 0],\n",
    "                [0, 0, 0, 0, 1]])\n",
    "rng = np.random.default_rng(seed=seed)\n",
    "before = rng.multivariate_normal(np.zeros(n_dims), cov1, size=bkp)\n",
    "after = rng.multivariate_normal(np.zeros(n_dims), cov2, size=n_samples - bkp)\n",
    "signal = np.concatenate([before, after], axis=0)\n"
   ]
  },
  {
   "cell_type": "code",
   "execution_count": 34,
   "metadata": {},
   "outputs": [
    {
     "name": "stdout",
     "output_type": "stream",
     "text": [
      "WITHOUT GRAPH STATIO:  110 [110, 200]\n",
      "WITH GRAPH STATIO:  110 [56, 110, 155, 200]\n"
     ]
    }
   ],
   "source": [
    "pen = n_dims/2 * np.log(n_samples) * 20\n",
    "\n",
    "# No graph statio\n",
    "normal_cost = rpt.costs.CostNormal()\n",
    "algo = rpt.Pelt(custom_cost=normal_cost, jump=1, min_size=1).fit(signal)\n",
    "normal_bkps = algo.predict(pen=pen)\n",
    "print(\"WITHOUT GRAPH STATIO: \", bkp, normal_bkps)\n",
    "\n",
    "# With graph statio\n",
    "statio_cost = CostGraphStatioNormal(nx.laplacian_matrix(G).toarray())\n",
    "algo = rpt.Pelt(custom_cost=statio_cost, jump=1, min_size=1).fit(signal)\n",
    "statio_bkps = algo.predict(pen=pen)\n",
    "print(\"WITH GRAPH STATIO: \", bkp, statio_bkps)"
   ]
  },
  {
   "cell_type": "code",
   "execution_count": null,
   "metadata": {},
   "outputs": [],
   "source": []
  }
 ],
 "metadata": {
  "kernelspec": {
   "display_name": ".venv",
   "language": "python",
   "name": "python3"
  },
  "language_info": {
   "codemirror_mode": {
    "name": "ipython",
    "version": 3
   },
   "file_extension": ".py",
   "mimetype": "text/x-python",
   "name": "python",
   "nbconvert_exporter": "python",
   "pygments_lexer": "ipython3",
   "version": "3.10.12"
  }
 },
 "nbformat": 4,
 "nbformat_minor": 2
}
